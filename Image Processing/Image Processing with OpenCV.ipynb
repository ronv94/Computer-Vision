{
 "cells": [
  {
   "cell_type": "markdown",
   "id": "642590ca",
   "metadata": {},
   "source": [
    "<h1>Objective</h1>\n",
    "\n",
    "The objective is to learn basic image processing skills to achieve computer vision using OpenCV library in Python.\n",
    "\n",
    "**Author :** Ronak Patel\n",
    "\n",
    "**Reference :** LinkedIn Learning, OpenCV for Python Developers"
   ]
  },
  {
   "cell_type": "code",
   "execution_count": 1,
   "id": "0e0ca967",
   "metadata": {},
   "outputs": [],
   "source": [
    "# imports\n",
    "import cv2\n",
    "import numpy as np"
   ]
  },
  {
   "cell_type": "markdown",
   "id": "67912025",
   "metadata": {},
   "source": [
    "# Basic Image Operations"
   ]
  },
  {
   "cell_type": "markdown",
   "id": "5d55db20",
   "metadata": {},
   "source": [
    "## Accessing an Image"
   ]
  },
  {
   "cell_type": "code",
   "execution_count": 3,
   "id": "5c5ca057",
   "metadata": {},
   "outputs": [],
   "source": [
    "# read an image\n",
    "img = cv2.imread(\"Scarlet-Macaws.png\")\n",
    "\n",
    "# show an image in a window\n",
    "cv2.namedWindow(\"Image\", cv2.WINDOW_NORMAL)\n",
    "cv2.imshow(\"Image\", img)\n",
    "\n",
    "# wait indefinitely for a key to be pressed to exit the window, change 0 value to wait temporarily\n",
    "cv2.waitKey(0)\n",
    "\n",
    "# close all image windows\n",
    "cv2.destroyAllWindows() "
   ]
  },
  {
   "cell_type": "code",
   "execution_count": 4,
   "id": "407f827a",
   "metadata": {},
   "outputs": [
    {
     "data": {
      "text/plain": [
       "True"
      ]
     },
     "execution_count": 4,
     "metadata": {},
     "output_type": "execute_result"
    }
   ],
   "source": [
    "# write an image\n",
    "cv2.imwrite(\"Scarlet-Macaw2.png\", img)"
   ]
  },
  {
   "cell_type": "markdown",
   "id": "755ee273",
   "metadata": {},
   "source": [
    "## Understanding Pixel Data"
   ]
  },
  {
   "cell_type": "code",
   "execution_count": 5,
   "id": "dfbf32e2",
   "metadata": {},
   "outputs": [],
   "source": [
    "# read an image in color\n",
    "img_color = cv2.imread(\"Scarlet-Macaws.png\", 1)\n",
    "\n",
    "# read an image in grayscale\n",
    "img_grayscale = cv2.imread(\"Scarlet-Macaws.png\", 0)\n",
    "\n",
    "# show images\n",
    "cv2.namedWindow(\"Color Image\", cv2.WINDOW_NORMAL)\n",
    "cv2.namedWindow(\"Grayscale Image\", cv2.WINDOW_NORMAL)\n",
    "\n",
    "cv2.imshow(\"Color Image\", img_color)\n",
    "cv2.imshow(\"Grayscale Image\", img_grayscale)\n",
    "\n",
    "cv2.waitKey(0)\n",
    "cv2.destroyAllWindows()"
   ]
  },
  {
   "cell_type": "code",
   "execution_count": 6,
   "id": "946dad7a",
   "metadata": {},
   "outputs": [
    {
     "name": "stdout",
     "output_type": "stream",
     "text": [
      "Size of grayscale image : (428, 419)\n",
      "Size of color image \t: (428, 419, 3)\n"
     ]
    }
   ],
   "source": [
    "# image dimensions\n",
    "print(f\"Size of grayscale image : {img_grayscale.shape}\")\n",
    "print(f\"Size of color image \\t: {img_color.shape}\")"
   ]
  },
  {
   "cell_type": "markdown",
   "id": "e823e7ba",
   "metadata": {},
   "source": [
    "**NOTE :**\n",
    "- We can see that the grayscale image shows 2 coordinates (2D image). OpenCV shows this in (height, width) format.\n",
    "  The color image shows 3 coordinates (3D image), shown as (height, width, channels)."
   ]
  },
  {
   "cell_type": "code",
   "execution_count": 9,
   "id": "22909232",
   "metadata": {},
   "outputs": [
    {
     "data": {
      "text/plain": [
       "array([[216, 216, 216, ..., 218, 218, 218],\n",
       "       [216, 216, 216, ..., 218, 218, 218],\n",
       "       [216, 216, 216, ..., 218, 218, 218],\n",
       "       ...,\n",
       "       [215, 215, 215, ..., 216, 216, 216],\n",
       "       [215, 215, 215, ..., 216, 216, 216],\n",
       "       [215, 215, 215, ..., 216, 216, 216]], dtype=uint8)"
      ]
     },
     "execution_count": 9,
     "metadata": {},
     "output_type": "execute_result"
    }
   ],
   "source": [
    "# seeing pixel data\n",
    "img_grayscale"
   ]
  },
  {
   "cell_type": "code",
   "execution_count": 10,
   "id": "94d79933",
   "metadata": {},
   "outputs": [
    {
     "data": {
      "text/plain": [
       "array([[[219, 213, 224],\n",
       "        [219, 213, 224],\n",
       "        [219, 213, 224],\n",
       "        ...,\n",
       "        [216, 210, 235],\n",
       "        [216, 210, 235],\n",
       "        [216, 210, 235]],\n",
       "\n",
       "       [[219, 213, 224],\n",
       "        [219, 213, 224],\n",
       "        [219, 213, 224],\n",
       "        ...,\n",
       "        [216, 210, 235],\n",
       "        [216, 210, 235],\n",
       "        [216, 210, 235]],\n",
       "\n",
       "       [[219, 213, 224],\n",
       "        [219, 213, 224],\n",
       "        [219, 213, 224],\n",
       "        ...,\n",
       "        [216, 210, 235],\n",
       "        [216, 210, 235],\n",
       "        [216, 210, 235]],\n",
       "\n",
       "       ...,\n",
       "\n",
       "       [[224, 218, 206],\n",
       "        [224, 218, 206],\n",
       "        [224, 218, 206],\n",
       "        ...,\n",
       "        [219, 213, 224],\n",
       "        [219, 213, 224],\n",
       "        [219, 213, 224]],\n",
       "\n",
       "       [[224, 218, 206],\n",
       "        [224, 218, 206],\n",
       "        [224, 218, 206],\n",
       "        ...,\n",
       "        [219, 213, 224],\n",
       "        [219, 213, 224],\n",
       "        [219, 213, 224]],\n",
       "\n",
       "       [[224, 218, 206],\n",
       "        [224, 218, 206],\n",
       "        [224, 218, 206],\n",
       "        ...,\n",
       "        [219, 213, 224],\n",
       "        [219, 213, 224],\n",
       "        [219, 213, 224]]], dtype=uint8)"
      ]
     },
     "execution_count": 10,
     "metadata": {},
     "output_type": "execute_result"
    }
   ],
   "source": [
    "img_color"
   ]
  },
  {
   "cell_type": "code",
   "execution_count": 11,
   "id": "01d752e8",
   "metadata": {},
   "outputs": [
    {
     "name": "stdout",
     "output_type": "stream",
     "text": [
      "Image height \t\t: 428\n",
      "Image width \t\t: 419\n",
      "Number of channels \t: 3\n",
      "Image Shape \t\t: (428, 419, 3)\n"
     ]
    }
   ],
   "source": [
    "# height of the image; number of pixels in a column or number of rows in an image\n",
    "print(f\"Image height \\t\\t: {len(img_color)}\")\n",
    "\n",
    "# width of an image; number of pixels in a row or number of columns in an image\n",
    "# looking at the top row specifically (0)\n",
    "print(f\"Image width \\t\\t: {len(img_color[0])}\")\n",
    "\n",
    "# number of channels in an image\n",
    "print(f\"Number of channels \\t: {len(img_color[0][0])}\")\n",
    "\n",
    "# shape of an image; [height, width, number of channels]\n",
    "print(f\"Image Shape \\t\\t: {img_color.shape}\")"
   ]
  },
  {
   "cell_type": "code",
   "execution_count": 13,
   "id": "9a5cb689",
   "metadata": {},
   "outputs": [
    {
     "name": "stdout",
     "output_type": "stream",
     "text": [
      "Image datatype \t\t: uint8\n",
      "Pixel values at [10, 5] : [219 213 224]\n",
      "\n",
      "\n",
      "Pixel values in Blue channel \t: \n",
      "[[219 219 219 ... 216 216 216]\n",
      " [219 219 219 ... 216 216 216]\n",
      " [219 219 219 ... 216 216 216]\n",
      " ...\n",
      " [224 224 224 ... 219 219 219]\n",
      " [224 224 224 ... 219 219 219]\n",
      " [224 224 224 ... 219 219 219]]\n",
      "\n",
      "Pixel values in Green channel \t: \n",
      "[[213 213 213 ... 210 210 210]\n",
      " [213 213 213 ... 210 210 210]\n",
      " [213 213 213 ... 210 210 210]\n",
      " ...\n",
      " [218 218 218 ... 213 213 213]\n",
      " [218 218 218 ... 213 213 213]\n",
      " [218 218 218 ... 213 213 213]]\n",
      "\n",
      "Pixel values in Red channel \t: \n",
      "[[224 224 224 ... 235 235 235]\n",
      " [224 224 224 ... 235 235 235]\n",
      " [224 224 224 ... 235 235 235]\n",
      " ...\n",
      " [206 206 206 ... 224 224 224]\n",
      " [206 206 206 ... 224 224 224]\n",
      " [206 206 206 ... 224 224 224]]\n",
      "\n",
      "Image total pixel values : 537996\n"
     ]
    }
   ],
   "source": [
    "# datatype of image\n",
    "# ('uint8'); this tells us there are a maximum of 2**8 (256) values in each pixel of this image\n",
    "# range of values from 0 to 255\n",
    "print(f\"Image datatype \\t\\t: {img_color.dtype}\")\n",
    "\n",
    "# show pixel values at 10th row and 5th column\n",
    "print(f\"Pixel values at [10, 5] : {img_color[10, 5]}\")\n",
    "\n",
    "# show pixel values in a channel\n",
    "print(\"\\n\")\n",
    "print(f\"Pixel values in Blue channel \\t: \\n{img_color[:, :, 0]}\\n\")\n",
    "print(f\"Pixel values in Green channel \\t: \\n{img_color[:, :, 1]}\\n\")\n",
    "print(f\"Pixel values in Red channel \\t: \\n{img_color[:, :, 2]}\")\n",
    "\n",
    "# show total number of pixel values in an image\n",
    "print(f\"\\nImage total pixel values : {img_color.size}\")"
   ]
  },
  {
   "cell_type": "code",
   "execution_count": null,
   "id": "11ceb902",
   "metadata": {},
   "outputs": [],
   "source": []
  }
 ],
 "metadata": {
  "kernelspec": {
   "display_name": "Python 3 (ipykernel)",
   "language": "python",
   "name": "python3"
  },
  "language_info": {
   "codemirror_mode": {
    "name": "ipython",
    "version": 3
   },
   "file_extension": ".py",
   "mimetype": "text/x-python",
   "name": "python",
   "nbconvert_exporter": "python",
   "pygments_lexer": "ipython3",
   "version": "3.9.12"
  }
 },
 "nbformat": 4,
 "nbformat_minor": 5
}
